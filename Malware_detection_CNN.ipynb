{
  "nbformat": 4,
  "nbformat_minor": 0,
  "metadata": {
    "colab": {
      "name": "Untitled7.ipynb",
      "version": "0.3.2",
      "provenance": [],
      "collapsed_sections": [],
      "include_colab_link": true
    },
    "kernelspec": {
      "name": "python3",
      "display_name": "Python 3"
    },
    "accelerator": "GPU"
  },
  "cells": [
    {
      "cell_type": "markdown",
      "metadata": {
        "id": "view-in-github",
        "colab_type": "text"
      },
      "source": [
        "<a href=\"https://colab.research.google.com/github/ardalanebrahimi/EDU/blob/master/Malware_detection_CNN.ipynb\" target=\"_parent\"><img src=\"https://colab.research.google.com/assets/colab-badge.svg\" alt=\"Open In Colab\"/></a>"
      ]
    },
    {
      "metadata": {
        "id": "U2wygzDoD-hb",
        "colab_type": "code",
        "colab": {}
      },
      "cell_type": "code",
      "source": [
        "from google.colab import drive\n",
        "import zipfile\n",
        "import keras\n",
        "import os,shutil\n",
        "from keras import layers\n",
        "from keras import models\n",
        "from keras.preprocessing.image import ImageDataGenerator\n",
        "import matplotlib.pyplot as plt\n",
        "from keras.layers import Activation\n",
        "from keras import optimizers\n",
        "from keras.utils import np_utils\n",
        "import numpy as np\n",
        "import tensorflow as tf"
      ],
      "execution_count": 0,
      "outputs": []
    },
    {
      "metadata": {
        "id": "PPIW84dMkPS0",
        "colab_type": "code",
        "outputId": "330ba6ba-259c-4d4c-b757-6ae4110e8ddf",
        "colab": {
          "base_uri": "https://localhost:8080/",
          "height": 122
        }
      },
      "cell_type": "code",
      "source": [
        "from google.colab import drive\n",
        "drive.mount('/content/drive')"
      ],
      "execution_count": 0,
      "outputs": [
        {
          "output_type": "stream",
          "text": [
            "Go to this URL in a browser: https://accounts.google.com/o/oauth2/auth?client_id=947318989803-6bn6qk8qdgf4n4g3pfee6491hc0brc4i.apps.googleusercontent.com&redirect_uri=urn%3Aietf%3Awg%3Aoauth%3A2.0%3Aoob&scope=email%20https%3A%2F%2Fwww.googleapis.com%2Fauth%2Fdocs.test%20https%3A%2F%2Fwww.googleapis.com%2Fauth%2Fdrive%20https%3A%2F%2Fwww.googleapis.com%2Fauth%2Fdrive.photos.readonly%20https%3A%2F%2Fwww.googleapis.com%2Fauth%2Fpeopleapi.readonly&response_type=code\n",
            "\n",
            "Enter your authorization code:\n",
            "··········\n",
            "Mounted at /content/drive\n"
          ],
          "name": "stdout"
        }
      ]
    },
    {
      "metadata": {
        "id": "DqROsPD7kUIX",
        "colab_type": "code",
        "outputId": "94c2d610-3418-44e1-a88c-4876200711da",
        "colab": {
          "base_uri": "https://localhost:8080/",
          "height": 51
        }
      },
      "cell_type": "code",
      "source": [
        "#import urllib.request\n",
        "#urllib.request.urlretrieve('https://uc1b3eeff1a388863e54f89377fd.dl.dropboxusercontent.com/cd/0/get/Abh-mhMNnJRL3X1Nx19DiwvKfvy1OlDYeFvvRgwOHehOxkpKwmhVpZGluutk-MVo4LqAzakk2y6M6fN88EODsvhP9iJtunPCOVbRf34quhpN-bmPQd3BzBiiIVLdp4u3CC0/file?_download_id=2719336305946158432021351566118605042404785170120585035297908900107755&_notify_domain=www.dropbox.com&dl=1', '/content/drive/My Drive/malimg_dataset.zip')"
      ],
      "execution_count": 0,
      "outputs": [
        {
          "output_type": "execute_result",
          "data": {
            "text/plain": [
              "('/content/drive/My Drive/malimg_dataset.zip',\n",
              " <http.client.HTTPMessage at 0x7f8e44854e10>)"
            ]
          },
          "metadata": {
            "tags": []
          },
          "execution_count": 4
        }
      ]
    },
    {
      "metadata": {
        "id": "vXw7yQ4_cpoD",
        "colab_type": "code",
        "colab": {}
      },
      "cell_type": "code",
      "source": [
        "if os.path.isdir(base_dir):\n",
        "  shutil.rmtree(base_dir)\n",
        "if os.path.isdir(base_dir):\n",
        "  os.rmdir(base_dir) \n",
        "  "
      ],
      "execution_count": 0,
      "outputs": []
    },
    {
      "metadata": {
        "id": "018njXlolmpV",
        "colab_type": "code",
        "colab": {}
      },
      "cell_type": "code",
      "source": [
        "import zipfile\n",
        "with zipfile.ZipFile('/content/drive/My Drive/malimg_dataset.zip', 'r') as zip_ref:\n",
        "    #zip_ref.extractall('/content/drive/My Drive/malimg_dataset')\n",
        "    zip_ref.extractall('/content/malimg_dataset')"
      ],
      "execution_count": 0,
      "outputs": []
    },
    {
      "metadata": {
        "id": "yM0nAU0DulYt",
        "colab_type": "code",
        "colab": {}
      },
      "cell_type": "code",
      "source": [
        "original_data_dir = '/content/malimg_dataset/malimg_paper_dataset_imgs'\n",
        "base_dir = '/content/malimg_dataset'\n",
        "\n",
        "#if os.path.isdir(base_dir):\n",
        "#  shutil.rmtree(base_dir)\n",
        "#if os.path.isdir(base_dir):\n",
        "#  os.rmdir(base_dir) \n",
        "  \n",
        "train_dir = os.path.join(base_dir,'train')\n",
        "validation_dir = os.path.join(base_dir,'validation')\n"
      ],
      "execution_count": 0,
      "outputs": []
    },
    {
      "metadata": {
        "id": "cgBJM1MbD4Bc",
        "colab_type": "code",
        "colab": {}
      },
      "cell_type": "code",
      "source": [
        "class_dir_list = list(os.listdir(original_data_dir)).sort()\n",
        "\n",
        "if os.path.isdir(base_dir) == False:\n",
        "  os.mkdir(base_dir)\n",
        "if os.path.isdir(train_dir) == False:\n",
        "  os.mkdir(train_dir)\n",
        "  #os.mkdir(test_dir)\n",
        "  os.mkdir(validation_dir)\n",
        "  \n",
        "  \n",
        "  for cl in class_dir_list :\n",
        "    os.mkdir(os.path.join(train_dir,cl))\n",
        "    os.mkdir(os.path.join(validation_dir,cl))"
      ],
      "execution_count": 0,
      "outputs": []
    },
    {
      "metadata": {
        "id": "UpvPk-ZBWEqL",
        "colab_type": "code",
        "colab": {}
      },
      "cell_type": "code",
      "source": [
        "def list_files(directory):\n",
        "  return (f for f in os.listdir(directory))\n",
        "\n",
        "def copy_classes(class_objs, cl, dest_dir ) :\n",
        "  src_dir = os.path.join(original_data_dir,cl)\n",
        "  for obj in class_objs:\n",
        "    src_file = os.path.join(src_dir, obj)\n",
        "    dst_dir = os.path.join(dest_dir, obj)\n",
        "    shutil.copyfile(src_file, dst_dir)\n",
        "    \n",
        "for cl in class_dir_list :\n",
        "  if cl != 'malimg_dataset_readme.txt' : \n",
        "    class_data_list = list(list_files(os.path.join(original_data_dir,cl)))\n",
        "    portion = int(np.floor((len(class_data_list)*8/10)))\n",
        "    copy_classes(class_data_list[:portion],cl,os.path.join(train_dir, cl))\n",
        "    copy_classes(class_data_list[portion:],cl,os.path.join(validation_dir, cl))\n"
      ],
      "execution_count": 0,
      "outputs": []
    },
    {
      "metadata": {
        "id": "UTQcGZWWoDWh",
        "colab_type": "code",
        "colab": {}
      },
      "cell_type": "code",
      "source": [
        "junk1 = os.path.join(train_dir, 'malimg_dataset_readme.txt')\n",
        "junk2 = os.path.join(validation_dir, 'malimg_dataset_readme.txt')\n",
        "\n",
        "if os.path.isdir(base_dir):\n",
        "  shutil.rmtree(junk1)\n",
        "  shutil.rmtree(junk2)"
      ],
      "execution_count": 0,
      "outputs": []
    },
    {
      "metadata": {
        "id": "bousH_K7G4rA",
        "colab_type": "code",
        "colab": {}
      },
      "cell_type": "code",
      "source": [
        "def create_model(shape = 150, samePadding = False):\n",
        "  _padding = 'same' if samePadding else 'valid'\n",
        "  _model = models.Sequential()\n",
        "  _model.add(layers.Conv2D(10, (3, 3), activation='relu', input_shape = (shape, shape, 3), padding= _padding))\n",
        "  _model.add(layers.MaxPooling2D(2, 2))\n",
        "  _model.add(layers.Conv2D(64, (3, 3), activation='relu', padding=_padding))\n",
        "  _model.add(layers.MaxPooling2D(2, 2))\n",
        "  _model.add(layers.Conv2D(64, (3, 3), activation='relu', padding=_padding))\n",
        "  _model.add(layers.MaxPooling2D(2, 2))\n",
        "  _model.add(layers.Conv2D(128, (3, 3), activation='relu', padding=_padding))\n",
        "  _model.add(layers.MaxPooling2D(2, 2))\n",
        "  _model.add(layers.Flatten())\n",
        "  _model.add(layers.Dense(512, activation='relu'))\n",
        "  _model.add(layers.Dense(25, activation='softmax'))\n",
        "  \n",
        "  #alware_Model = models.Sequential()\n",
        "  #alware_Model.add(layers.Conv2D(32, kernel_size=(3,3),input_shape=(shape,shape,3),))\n",
        "  #alware_Model.add(layers.LeakyReLU(.1))\n",
        "  #alware_Model.add(layers.MaxPooling2D(pool_size=(2, 2)))\n",
        "  #alware_Model.add(layers.Conv2D(64, kernel_size=(3,3),))\n",
        "  #alware_Model.add(layers.LeakyReLU(.1))\n",
        "  #alware_Model.add(layers.MaxPooling2D(pool_size=(2, 2)))\n",
        "  #alware_Model.add(layers.Conv2D(64, (3, 3)))\n",
        "  #alware_Model.add(layers.LeakyReLU(.1))\n",
        "  #alware_Model.add(layers.Dense(128 ))\n",
        "  #alware_Model.add(layers.LeakyReLU(.1))\n",
        "  #alware_Model.add(layers.Dropout(0.4))\n",
        "  #alware_Model.add(layers.Flatten())\n",
        "  #alware_Model.add(layers.Dense(25 ))\n",
        "\n",
        "  opt = keras.optimizers.rmsprop(lr=1e-3)\n",
        "  _model.compile(loss='categorical_crossentropy',\n",
        "               optimizer= opt,\n",
        "               metrics = ['accuracy'])\n",
        "  return _model\n",
        "\n",
        "#################################################\n",
        "def fit_model_gen(_model,\n",
        "                  _train_datagen = ImageDataGenerator(rescale=1./255),\n",
        "                  _train_batch_size=20,\n",
        "                  _epochs = 30,\n",
        "                  _shuffle = False,\n",
        "                  _modelName = 'malimg_model.h5',\n",
        "                  _shape=150):\n",
        "                 \n",
        "  test_datagen = ImageDataGenerator(rescale=1./255)\n",
        "\n",
        "  train_generator = _train_datagen.flow_from_directory(\n",
        "      train_dir,\n",
        "      target_size=(_shape,_shape),\n",
        "      batch_size=20,\n",
        "      class_mode = 'categorical')\n",
        "\n",
        "\n",
        "  validation_generator = test_datagen.flow_from_directory(\n",
        "      validation_dir,\n",
        "      target_size=(_shape,_shape),\n",
        "      batch_size=_train_batch_size,\n",
        "      class_mode = 'categorical')\n",
        "\n",
        "  _history = _model.fit_generator(\n",
        "      train_generator,\n",
        "      steps_per_epoch = 100,\n",
        "      epochs = _epochs,\n",
        "      validation_data=validation_generator,\n",
        "      validation_steps=50,\n",
        "      shuffle=_shuffle,\n",
        "      workers=4)\n",
        "  \n",
        "  model.save(_modelName)\n",
        "  model.save('/content/drive/My Drive/malimg_dataset/' + _modelName)\n",
        "  return _history\n",
        "\n",
        "#################################################\n",
        "def train_val_by_metric(history,metric):\n",
        "  history_dict = history.history\n",
        "  #history_dict.keys()\n",
        "  values = history_dict[metric]\n",
        "  val_values = history_dict['val_'+metric]\n",
        "\n",
        "  epochs = range(1, len(values) + 1)\n",
        "  \n",
        "  plt.plot(epochs, values, 'bo', label= 'Training '+metric)\n",
        "  plt.plot(epochs, val_values, 'b', label= 'Validation '+metric)\n",
        "  metricTitle = 'Loss' if metric == 'loss' else 'Accuracy'\n",
        "  plt.title('Training and validation '+metricTitle)\n",
        "  plt.xlabel('Epochs')\n",
        "  plt.ylabel(metricTitle)\n",
        "  plt.legend()\n",
        "\n",
        "  plt.show()\n",
        "###################################################\n",
        "def train_val_res(history):\n",
        "  train_val_by_metric(history,'loss')\n",
        "  train_val_by_metric(history,'acc')"
      ],
      "execution_count": 0,
      "outputs": []
    },
    {
      "metadata": {
        "id": "uSa9BTtgq5jl",
        "colab_type": "code",
        "outputId": "b4b5bdd3-8302-48ec-f6a7-f3e9fa5fb48b",
        "colab": {
          "base_uri": "https://localhost:8080/",
          "height": 1962
        }
      },
      "cell_type": "code",
      "source": [
        "_shape = 150\n",
        "model = create_model(shape = _shape , samePadding = True)\n",
        "model.summary()\n",
        "history = fit_model_gen(model,_shape = _shape,_train_batch_size=64,_epochs = 20,_shuffle = True)\n",
        "train_val_res(history)"
      ],
      "execution_count": 30,
      "outputs": [
        {
          "output_type": "stream",
          "text": [
            "_________________________________________________________________\n",
            "Layer (type)                 Output Shape              Param #   \n",
            "=================================================================\n",
            "conv2d_46 (Conv2D)           (None, 150, 150, 10)      280       \n",
            "_________________________________________________________________\n",
            "max_pooling2d_38 (MaxPooling (None, 75, 75, 10)        0         \n",
            "_________________________________________________________________\n",
            "conv2d_47 (Conv2D)           (None, 75, 75, 64)        5824      \n",
            "_________________________________________________________________\n",
            "max_pooling2d_39 (MaxPooling (None, 37, 37, 64)        0         \n",
            "_________________________________________________________________\n",
            "conv2d_48 (Conv2D)           (None, 37, 37, 64)        36928     \n",
            "_________________________________________________________________\n",
            "max_pooling2d_40 (MaxPooling (None, 18, 18, 64)        0         \n",
            "_________________________________________________________________\n",
            "conv2d_49 (Conv2D)           (None, 18, 18, 128)       73856     \n",
            "_________________________________________________________________\n",
            "max_pooling2d_41 (MaxPooling (None, 9, 9, 128)         0         \n",
            "_________________________________________________________________\n",
            "flatten_15 (Flatten)         (None, 10368)             0         \n",
            "_________________________________________________________________\n",
            "dense_29 (Dense)             (None, 512)               5308928   \n",
            "_________________________________________________________________\n",
            "dense_30 (Dense)             (None, 25)                12825     \n",
            "=================================================================\n",
            "Total params: 5,438,641\n",
            "Trainable params: 5,438,641\n",
            "Non-trainable params: 0\n",
            "_________________________________________________________________\n",
            "Found 7459 images belonging to 25 classes.\n",
            "Found 1880 images belonging to 25 classes.\n",
            "Epoch 1/20\n",
            "100/100 [==============================] - 17s 170ms/step - loss: 1.5645 - acc: 0.5980 - val_loss: 0.4378 - val_acc: 0.8934\n",
            "Epoch 2/20\n",
            "100/100 [==============================] - 15s 154ms/step - loss: 0.3251 - acc: 0.9095 - val_loss: 0.5642 - val_acc: 0.8240\n",
            "Epoch 3/20\n",
            "100/100 [==============================] - 15s 153ms/step - loss: 0.1930 - acc: 0.9495 - val_loss: 0.1333 - val_acc: 0.9657\n",
            "Epoch 4/20\n",
            "100/100 [==============================] - 16s 158ms/step - loss: 0.1728 - acc: 0.9519 - val_loss: 0.1177 - val_acc: 0.9563\n",
            "Epoch 5/20\n",
            "100/100 [==============================] - 16s 155ms/step - loss: 0.1510 - acc: 0.9540 - val_loss: 0.1273 - val_acc: 0.9606\n",
            "Epoch 6/20\n",
            "100/100 [==============================] - 15s 153ms/step - loss: 0.1134 - acc: 0.9695 - val_loss: 0.1829 - val_acc: 0.9426\n",
            "Epoch 7/20\n",
            "100/100 [==============================] - 15s 154ms/step - loss: 0.1183 - acc: 0.9655 - val_loss: 0.0923 - val_acc: 0.9696\n",
            "Epoch 8/20\n",
            "100/100 [==============================] - 16s 157ms/step - loss: 0.1158 - acc: 0.9650 - val_loss: 0.1100 - val_acc: 0.9667\n",
            "Epoch 9/20\n",
            "100/100 [==============================] - 15s 152ms/step - loss: 0.0794 - acc: 0.9765 - val_loss: 0.1039 - val_acc: 0.9699\n",
            "Epoch 10/20\n",
            "100/100 [==============================] - 16s 157ms/step - loss: 0.0997 - acc: 0.9685 - val_loss: 0.0942 - val_acc: 0.9671\n",
            "Epoch 11/20\n",
            "100/100 [==============================] - 16s 158ms/step - loss: 0.1100 - acc: 0.9670 - val_loss: 0.0879 - val_acc: 0.9654\n",
            "Epoch 12/20\n",
            "100/100 [==============================] - 15s 152ms/step - loss: 0.0610 - acc: 0.9839 - val_loss: 0.0606 - val_acc: 0.9821\n",
            "Epoch 13/20\n",
            "100/100 [==============================] - 16s 157ms/step - loss: 0.0461 - acc: 0.9845 - val_loss: 0.0603 - val_acc: 0.9823\n",
            "Epoch 14/20\n",
            "100/100 [==============================] - 15s 155ms/step - loss: 0.0621 - acc: 0.9795 - val_loss: 0.0435 - val_acc: 0.9821\n",
            "Epoch 15/20\n",
            "100/100 [==============================] - 16s 156ms/step - loss: 0.0465 - acc: 0.9885 - val_loss: 0.0737 - val_acc: 0.9795\n",
            "Epoch 16/20\n",
            "100/100 [==============================] - 15s 153ms/step - loss: 0.0326 - acc: 0.9875 - val_loss: 0.1738 - val_acc: 0.9728\n",
            "Epoch 17/20\n",
            "100/100 [==============================] - 16s 156ms/step - loss: 0.0578 - acc: 0.9875 - val_loss: 0.0561 - val_acc: 0.9830\n",
            "Epoch 18/20\n",
            "100/100 [==============================] - 15s 154ms/step - loss: 0.0833 - acc: 0.9835 - val_loss: 0.0357 - val_acc: 0.9862\n",
            "Epoch 19/20\n",
            "100/100 [==============================] - 16s 157ms/step - loss: 0.0300 - acc: 0.9885 - val_loss: 0.0730 - val_acc: 0.9794\n",
            "Epoch 20/20\n",
            "100/100 [==============================] - 16s 156ms/step - loss: 0.0358 - acc: 0.9900 - val_loss: 0.0484 - val_acc: 0.9849\n"
          ],
          "name": "stdout"
        },
        {
          "output_type": "display_data",
          "data": {
            "image/png": "[encoded data removed]",
            "text/plain": [
              "<Figure size 576x396 with 1 Axes>"
            ]
          },
          "metadata": {
            "tags": []
          }
        },
        {
          "output_type": "display_data",
          "data": {
            "image/png": "[encoded data removed]",
            "text/plain": [
              "<Figure size 576x396 with 1 Axes>"
            ]
          },
          "metadata": {
            "tags": []
          }
        }
      ]
    },
    {
      "metadata": {
        "id": "hC0wrN7PT369",
        "colab_type": "code",
        "colab": {}
      },
      "cell_type": "code",
      "source": [
        "model = tf.keras.models.load_model('/content/drive/My Drive/malimg_dataset/malimg_model.h5')"
      ],
      "execution_count": 0,
      "outputs": []
    },
    {
      "metadata": {
        "id": "41jyaoixnqNp",
        "colab_type": "code",
        "colab": {}
      },
      "cell_type": "code",
      "source": [
        "import cv2\n",
        "def prepare(filepath):\n",
        "  IMG_SIZE = 150\n",
        "  img_array = cv2.imread(filepath)\n",
        "  new_array = cv2.resize(img_array, (IMG_SIZE,IMG_SIZE))\n",
        "  return new_array.reshape(-1, IMG_SIZE, IMG_SIZE, 3)\n",
        "\n",
        "def to_img(mal_path):\n",
        "  import os\n",
        "  import imageio\n",
        "  import array\n",
        "  import numpy\n",
        "  f = open(mal_path,'rb');\n",
        "  ln = os.path.getsize(mal_path);\n",
        "  width = 512;\n",
        "  rem = ln%width;\n",
        "  a = array.array(\"B\");\n",
        "  a.fromfile(f,ln-rem);\n",
        "  f.close();\n",
        "  g = numpy.reshape(a,(int(len(a)/width),width));\n",
        "  g = numpy.uint8(g);  \n",
        "  img_path = mal_path+'.png';\n",
        "  imageio.imwrite(img_path,g);\n",
        "  return img_path;\n",
        "\n",
        "def detect_mal_from_binery(mal_path) :\n",
        "  class_dir_list = list(os.listdir(original_data_dir)).sort()\n",
        "  mal_img = to_img(mal_path)\n",
        "  predict_mal_from_img(mal_img)\n",
        "  \n",
        "def predict_mal_from_img(mal_img) :\n",
        "  import ntpath\n",
        "  prepared_mal_img = prepare(mal_img)\n",
        "  predicted_mal_class = model.predict([prepared_mal_img])\n",
        "  intg = get_class_index(predicted_mal_class)\n",
        "  head, tail = ntpath.split(mal_img)\n",
        "  mal_name = tail or ntpath.basename(mal_img)\n",
        "  print(mal_name+' ======> '+class_dir_list[intg])\n",
        "\n",
        "def get_class_index(predicted_mal_class) : \n",
        "  return [np.where(r==1)[0][0] for r in predicted_mal_class][0]"
      ],
      "execution_count": 0,
      "outputs": []
    },
    {
      "metadata": {
        "id": "JP_0s_9FTnw8",
        "colab_type": "code",
        "colab": {
          "base_uri": "https://localhost:8080/",
          "height": 136
        },
        "outputId": "29c84d67-9ecf-4bfb-e213-e68b25c3c9bf"
      },
      "cell_type": "code",
      "source": [
        "prefix_dir = '/content/malimg_dataset/train'\n",
        "#print(class_dir_list[get_class_index(model.predict([prepare(os.path.join(prefix_dir,'Adialer.C/0044f0746b812f6b454ce210bc58c572.png'))]))])\n",
        "#print(class_dir_list[get_class_index(model.predict([prepare(os.path.join(prefix_dir,'Agent.FYI/00221d9f4bfd530abc23314c7b4dd556.png'))]))])\n",
        "#print(class_dir_list[get_class_index(model.predict([prepare(os.path.join(prefix_dir,'Fakerean/00291c2d292e659e51d32e77194d9196.png'))]))])\n",
        "\n",
        "predict_mal_from_img(os.path.join(prefix_dir,'Adialer.C/0044f0746b812f6b454ce210bc58c572.png'))\n",
        "predict_mal_from_img(os.path.join(prefix_dir,'Agent.FYI/00221d9f4bfd530abc23314c7b4dd556.png'))\n",
        "predict_mal_from_img(os.path.join(prefix_dir,'Fakerean/00291c2d292e659e51d32e77194d9196.png'))\n",
        "\n",
        "detect_mal_from_binery('/content/PDFXCview.exe')\n",
        "detect_mal_from_binery('/content/Win32.Cridex')\n",
        "detect_mal_from_binery('/content/splwow64.exe')\n",
        "detect_mal_from_binery('/content/winhlp32.exe')"
      ],
      "execution_count": 199,
      "outputs": [
        {
          "output_type": "stream",
          "text": [
            "0044f0746b812f6b454ce210bc58c572.png ======> Adialer.C\n",
            "00221d9f4bfd530abc23314c7b4dd556.png ======> Agent.FYI\n",
            "00291c2d292e659e51d32e77194d9196.png ======> Fakerean\n",
            "PDFXCview.exe.png ======> C2LOP.P\n",
            "Win32.Cridex.png ======> Lolyda.AA3\n",
            "splwow64.exe.png ======> Swizzor.gen!E\n",
            "winhlp32.exe.png ======> Swizzor.gen!I\n"
          ],
          "name": "stdout"
        }
      ]
    }
  ]
}