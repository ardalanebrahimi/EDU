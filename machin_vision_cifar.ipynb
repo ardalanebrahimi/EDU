{
  "nbformat": 4,
  "nbformat_minor": 0,
  "metadata": {
    "colab": {
      "name": "Untitled0.ipynb",
      "version": "0.3.2",
      "provenance": [],
      "collapsed_sections": [],
      "include_colab_link": true
    },
    "kernelspec": {
      "name": "python3",
      "display_name": "Python 3"
    },
    "accelerator": "GPU"
  },
  "cells": [
    {
      "cell_type": "markdown",
      "metadata": {
        "id": "view-in-github",
        "colab_type": "text"
      },
      "source": [
        "<a href=\"https://colab.research.google.com/github/ardalanebrahimi/EDU/blob/master/machin_vision_cifar.ipynb\" target=\"_parent\"><img src=\"https://colab.research.google.com/assets/colab-badge.svg\" alt=\"Open In Colab\"/></a>"
      ]
    },
    {
      "metadata": {
        "id": "5RNAgAP-q3zV",
        "colab_type": "code",
        "colab": {}
      },
      "cell_type": "code",
      "source": [
        "from google.colab import drive\n",
        "import zipfile\n",
        "import os\n",
        "from keras import layers\n",
        "from keras import models\n",
        "from keras.preprocessing.image import ImageDataGenerator\n",
        "import matplotlib.pyplot as plt"
      ],
      "execution_count": 0,
      "outputs": []
    },
    {
      "metadata": {
        "id": "0NIhmBJfBz5v",
        "colab_type": "code",
        "outputId": "f66a7f54-4104-4b8d-b2ce-b10a420285db",
        "colab": {
          "base_uri": "https://localhost:8080/",
          "height": 122
        }
      },
      "cell_type": "code",
      "source": [
        "drive.mount('/content/drive')\n",
        "#drive.mount(\"/content/drive\", force_remount=True)"
      ],
      "execution_count": 1,
      "outputs": [
        {
          "output_type": "stream",
          "text": [
            "Go to this URL in a browser: https://accounts.google.com/o/oauth2/auth?client_id=947318989803-6bn6qk8qdgf4n4g3pfee6491hc0brc4i.apps.googleusercontent.com&redirect_uri=urn%3Aietf%3Awg%3Aoauth%3A2.0%3Aoob&scope=email%20https%3A%2F%2Fwww.googleapis.com%2Fauth%2Fdocs.test%20https%3A%2F%2Fwww.googleapis.com%2Fauth%2Fdrive%20https%3A%2F%2Fwww.googleapis.com%2Fauth%2Fdrive.photos.readonly%20https%3A%2F%2Fwww.googleapis.com%2Fauth%2Fpeopleapi.readonly&response_type=code\n",
            "\n",
            "Enter your authorization code:\n",
            "··········\n",
            "Mounted at /content/drive\n"
          ],
          "name": "stdout"
        }
      ]
    },
    {
      "metadata": {
        "id": "qumXWeb4c7Ol",
        "colab_type": "code",
        "colab": {}
      },
      "cell_type": "code",
      "source": [
        "with zipfile.ZipFile('/content/drive/My Drive/cifar/cifar.zip', 'r') as zip_ref:\n",
        "    zip_ref.extractall('/content/cifar')"
      ],
      "execution_count": 0,
      "outputs": []
    },
    {
      "metadata": {
        "id": "STquVt_T5bBs",
        "colab_type": "code",
        "colab": {}
      },
      "cell_type": "code",
      "source": [
        "def create_dirs() :\n",
        "  base_dir = '/content/cifar'\n",
        "\n",
        "  train_dir = os.path.join(base_dir,'train')\n",
        "  test_dir = os.path.join(base_dir,'test')\n",
        "  validation_dir = os.path.join(base_dir,'validation')\n",
        "\n",
        "  train_cat_dir = os.path.join(train_dir,'cat')\n",
        "  train_dog_dir = os.path.join(train_dir,'dog')\n",
        "  train_airplane_dir = os.path.join(train_dir,'airplane')\n",
        "  train_automobile_dir = os.path.join(train_dir,'automobile')\n",
        "  train_bird_dir = os.path.join(train_dir,'bird')\n",
        "  train_deer_dir = os.path.join(train_dir,'deer')\n",
        "  train_frog_dir = os.path.join(train_dir,'frog')\n",
        "  train_horse_dir = os.path.join(train_dir,'horse')\n",
        "  train_ship_dir = os.path.join(train_dir,'ship')\n",
        "  train_truck_dir = os.path.join(train_dir,'truck')\n",
        "\n",
        "\n",
        "  validation_cat_dir = os.path.join(validation_dir,'cat')\n",
        "  validation_dog_dir = os.path.join(validation_dir,'dog')\n",
        "  validation_airplane_dir = os.path.join(validation_dir,'airplane')\n",
        "  validation_automobile_dir = os.path.join(validation_dir,'automobile')\n",
        "  validation_bird_dir = os.path.join(validation_dir,'bird')\n",
        "  validation_deer_dir = os.path.join(validation_dir,'deer')\n",
        "  validation_frog_dir = os.path.join(validation_dir,'frog')\n",
        "  validation_horse_dir = os.path.join(validation_dir,'horse')\n",
        "  validation_ship_dir = os.path.join(validation_dir,'ship')\n",
        "  validation_truck_dir = os.path.join(validation_dir,'truck')\n",
        "\n",
        "  test_cat_dir = os.path.join(test_dir,'cat')\n",
        "  test_dog_dir = os.path.join(test_dir,'dog')\n",
        "  test_airplane_dir = os.path.join(test_dir,'airplane')\n",
        "  test_automobile_dir = os.path.join(test_dir,'automobile')\n",
        "  test_bird_dir = os.path.join(test_dir,'bird')\n",
        "  test_deer_dir = os.path.join(test_dir,'deer')\n",
        "  test_frog_dir = os.path.join(test_dir,'frog')\n",
        "  test_horse_dir = os.path.join(test_dir,'horse')\n",
        "  test_ship_dir = os.path.join(test_dir,'ship')\n",
        "  test_truck_dir = os.path.join(test_dir,'truck')\n",
        "\n",
        "  ###########################################\n",
        "  \n",
        "def create_model():\n",
        "  _model = models.Sequential()\n",
        "  _model.add(layers.Conv2D(32, (3, 3), activation='relu', input_shape = (150, 150, 3)))\n",
        "  _model.add(layers.MaxPooling2D(2, 2))\n",
        "  _model.add(layers.Conv2D(64, (3, 3), activation='relu'))\n",
        "  _model.add(layers.MaxPooling2D(2, 2))\n",
        "  _model.add(layers.Conv2D(128, (3, 3), activation='relu'))\n",
        "  _model.add(layers.MaxPooling2D(2, 2))\n",
        "  _model.add(layers.Conv2D(128, (3, 3), activation='relu'))\n",
        "  _model.add(layers.Flatten())\n",
        "  _model.add(layers.Dense(512, activation = 'relu'))\n",
        "  _model.add(layers.Dense(10, activation = 'softmax'))\n",
        "\n",
        "  _model.compile(loss='categorical_crossentropy',\n",
        "               optimizer= 'rmsprop',\n",
        "               metrics = ['accuracy'])\n",
        "  return _model\n",
        "\n",
        "##############################################\n",
        "create_dirs()\n",
        "##############################################\n",
        "def fit_model(train_datagen = ImageDataGenerator(rescale=1./255),\n",
        "             train_batch_size=20,\n",
        "             _epochs = 30):\n",
        "  _train_datagen = train_datagen\n",
        "\n",
        "  test_datagen = ImageDataGenerator(rescale=1./255)\n",
        "\n",
        "  train_generator = _train_datagen.flow_from_directory(\n",
        "      train_dir,\n",
        "      target_size=(150,150),\n",
        "      batch_size=20,\n",
        "      class_mode = 'categorical')\n",
        "\n",
        "\n",
        "  validation_generator = test_datagen.flow_from_directory(\n",
        "      validation_dir,\n",
        "      target_size=(150,150),\n",
        "      batch_size=train_batch_size,\n",
        "      class_mode = 'categorical')\n",
        "\n",
        "  _history = model.fit_generator(\n",
        "      train_generator,\n",
        "      steps_per_epoch = 100,\n",
        "      epochs = _epochs,\n",
        "      validation_data=validation_generator,\n",
        "      validation_steps=50)\n",
        "  \n",
        "  return _history\n",
        "\n",
        "#################################################\n",
        "def train_val_by_metric(history,metric):\n",
        "  history_dict = history.history\n",
        "  #history_dict.keys()\n",
        "  values = history_dict[metric]\n",
        "  val_values = history_dict['val_'+metric]\n",
        "\n",
        "  epochs = range(1, len(values) + 1)\n",
        "  \n",
        "  plt.plot(epochs, values, 'bo', label= 'Training '+metric)\n",
        "  plt.plot(epochs, val_values, 'b', label= 'Validation '+metric)\n",
        "  metricTitle = 'Loss' if metric == 'loss' else 'Accuracy'\n",
        "  plt.title('Training and validation '+metricTitle)\n",
        "  plt.xlabel('Epochs')\n",
        "  plt.ylabel(metricTitle)\n",
        "  plt.legend()\n",
        "\n",
        "  plt.show()\n",
        "###################################################\n",
        "def train_val_res(history):\n",
        "  train_val_by_metric(history,'loss')\n",
        "  train_val_by_metric(history,'acc')"
      ],
      "execution_count": 0,
      "outputs": []
    },
    {
      "metadata": {
        "id": "uJOBv-NqD3H6",
        "colab_type": "code",
        "colab": {}
      },
      "cell_type": "code",
      "source": [
        "model = create_model()\n",
        "model.summary()\n",
        "history = fit_model()\n",
        "model.save('cifar10_small.h5')\n",
        "train_val_res(history)"
      ],
      "execution_count": 0,
      "outputs": []
    },
    {
      "metadata": {
        "id": "5VvLZ_IDY4GL",
        "colab_type": "code",
        "colab": {
          "base_uri": "https://localhost:8080/",
          "height": 1526
        },
        "outputId": "596007fe-4ff4-42a3-b1cf-59ee12c74ddd"
      },
      "cell_type": "code",
      "source": [
        "model = create_model()\n",
        "train_datagen = ImageDataGenerator(\n",
        "    rotation_range=40,\n",
        "    width_shift_range=0.2,\n",
        "    height_shift_range=0.2,\n",
        "    shear_range=0.2,\n",
        "    zoom_range=0.2,\n",
        "    horizontal_flip=True,\n",
        "    fill_mode='nearest')\n",
        "history = fit_model(train_datagen,32,100)\n",
        "train_val_res(history)"
      ],
      "execution_count": 36,
      "outputs": [
        {
          "output_type": "stream",
          "text": [
            "Found 2500 images belonging to 10 classes.\n",
            "Found 500 images belonging to 10 classes.\n",
            "Epoch 1/100\n",
            "100/100 [==============================] - 15s 151ms/step - loss: 14.4807 - acc: 0.1015 - val_loss: 9.8301 - val_acc: 0.0997\n",
            "Epoch 2/100\n",
            "100/100 [==============================] - 14s 137ms/step - loss: 14.5143 - acc: 0.0995 - val_loss: 9.7805 - val_acc: 0.0965\n",
            "Epoch 3/100\n",
            "100/100 [==============================] - 14s 140ms/step - loss: 14.4982 - acc: 0.1005 - val_loss: 9.7431 - val_acc: 0.1036\n",
            "Epoch 4/100\n",
            "100/100 [==============================] - 14s 140ms/step - loss: 14.5224 - acc: 0.0990 - val_loss: 9.7851 - val_acc: 0.1017\n",
            "Epoch 5/100\n",
            "100/100 [==============================] - 14s 142ms/step - loss: 14.5143 - acc: 0.0995 - val_loss: 9.7231 - val_acc: 0.0972\n",
            "Epoch 6/100\n",
            "100/100 [==============================] - 14s 140ms/step - loss: 14.5305 - acc: 0.0985 - val_loss: 9.8436 - val_acc: 0.0985\n",
            "Epoch 7/100\n",
            "100/100 [==============================] - 14s 138ms/step - loss: 14.4257 - acc: 0.1050 - val_loss: 9.8191 - val_acc: 0.1017\n",
            "Epoch 8/100\n",
            "100/100 [==============================] - 14s 140ms/step - loss: 14.5305 - acc: 0.0985 - val_loss: 9.7393 - val_acc: 0.1012\n",
            "Epoch 9/100\n",
            " 91/100 [==========================>...] - ETA: 1s - loss: 14.5506 - acc: 0.0973"
          ],
          "name": "stdout"
        },
        {
          "output_type": "error",
          "ename": "KeyboardInterrupt",
          "evalue": "ignored",
          "traceback": [
            "\u001b[0;31m---------------------------------------------------------------------------\u001b[0m",
            "\u001b[0;31mKeyboardInterrupt\u001b[0m                         Traceback (most recent call last)",
            "\u001b[0;32m<ipython-input-36-c5413ede2100>\u001b[0m in \u001b[0;36m<module>\u001b[0;34m()\u001b[0m\n\u001b[1;32m      8\u001b[0m     \u001b[0mhorizontal_flip\u001b[0m\u001b[0;34m=\u001b[0m\u001b[0;32mTrue\u001b[0m\u001b[0;34m,\u001b[0m\u001b[0;34m\u001b[0m\u001b[0;34m\u001b[0m\u001b[0m\n\u001b[1;32m      9\u001b[0m     fill_mode='nearest')\n\u001b[0;32m---> 10\u001b[0;31m \u001b[0mhistory\u001b[0m \u001b[0;34m=\u001b[0m \u001b[0mfit_model\u001b[0m\u001b[0;34m(\u001b[0m\u001b[0mtrain_datagen\u001b[0m\u001b[0;34m,\u001b[0m\u001b[0;36m32\u001b[0m\u001b[0;34m,\u001b[0m\u001b[0;36m100\u001b[0m\u001b[0;34m)\u001b[0m\u001b[0;34m\u001b[0m\u001b[0;34m\u001b[0m\u001b[0m\n\u001b[0m\u001b[1;32m     11\u001b[0m \u001b[0mtrain_val_res\u001b[0m\u001b[0;34m(\u001b[0m\u001b[0mhistory\u001b[0m\u001b[0;34m)\u001b[0m\u001b[0;34m\u001b[0m\u001b[0;34m\u001b[0m\u001b[0m\n",
            "\u001b[0;32m<ipython-input-35-2f9f8b7ec54d>\u001b[0m in \u001b[0;36mfit_model\u001b[0;34m(train_datagen, train_batch_size, _epochs)\u001b[0m\n\u001b[1;32m     88\u001b[0m       \u001b[0mepochs\u001b[0m \u001b[0;34m=\u001b[0m \u001b[0m_epochs\u001b[0m\u001b[0;34m,\u001b[0m\u001b[0;34m\u001b[0m\u001b[0;34m\u001b[0m\u001b[0m\n\u001b[1;32m     89\u001b[0m       \u001b[0mvalidation_data\u001b[0m\u001b[0;34m=\u001b[0m\u001b[0mvalidation_generator\u001b[0m\u001b[0;34m,\u001b[0m\u001b[0;34m\u001b[0m\u001b[0;34m\u001b[0m\u001b[0m\n\u001b[0;32m---> 90\u001b[0;31m       validation_steps=50)\n\u001b[0m\u001b[1;32m     91\u001b[0m \u001b[0;34m\u001b[0m\u001b[0m\n\u001b[1;32m     92\u001b[0m   \u001b[0;32mreturn\u001b[0m \u001b[0m_history\u001b[0m\u001b[0;34m\u001b[0m\u001b[0;34m\u001b[0m\u001b[0m\n",
            "\u001b[0;32m/usr/local/lib/python3.6/dist-packages/keras/legacy/interfaces.py\u001b[0m in \u001b[0;36mwrapper\u001b[0;34m(*args, **kwargs)\u001b[0m\n\u001b[1;32m     89\u001b[0m                 warnings.warn('Update your `' + object_name + '` call to the ' +\n\u001b[1;32m     90\u001b[0m                               'Keras 2 API: ' + signature, stacklevel=2)\n\u001b[0;32m---> 91\u001b[0;31m             \u001b[0;32mreturn\u001b[0m \u001b[0mfunc\u001b[0m\u001b[0;34m(\u001b[0m\u001b[0;34m*\u001b[0m\u001b[0margs\u001b[0m\u001b[0;34m,\u001b[0m \u001b[0;34m**\u001b[0m\u001b[0mkwargs\u001b[0m\u001b[0;34m)\u001b[0m\u001b[0;34m\u001b[0m\u001b[0;34m\u001b[0m\u001b[0m\n\u001b[0m\u001b[1;32m     92\u001b[0m         \u001b[0mwrapper\u001b[0m\u001b[0;34m.\u001b[0m\u001b[0m_original_function\u001b[0m \u001b[0;34m=\u001b[0m \u001b[0mfunc\u001b[0m\u001b[0;34m\u001b[0m\u001b[0;34m\u001b[0m\u001b[0m\n\u001b[1;32m     93\u001b[0m         \u001b[0;32mreturn\u001b[0m \u001b[0mwrapper\u001b[0m\u001b[0;34m\u001b[0m\u001b[0;34m\u001b[0m\u001b[0m\n",
            "\u001b[0;32m/usr/local/lib/python3.6/dist-packages/keras/engine/training.py\u001b[0m in \u001b[0;36mfit_generator\u001b[0;34m(self, generator, steps_per_epoch, epochs, verbose, callbacks, validation_data, validation_steps, class_weight, max_queue_size, workers, use_multiprocessing, shuffle, initial_epoch)\u001b[0m\n\u001b[1;32m   1416\u001b[0m             \u001b[0muse_multiprocessing\u001b[0m\u001b[0;34m=\u001b[0m\u001b[0muse_multiprocessing\u001b[0m\u001b[0;34m,\u001b[0m\u001b[0;34m\u001b[0m\u001b[0;34m\u001b[0m\u001b[0m\n\u001b[1;32m   1417\u001b[0m             \u001b[0mshuffle\u001b[0m\u001b[0;34m=\u001b[0m\u001b[0mshuffle\u001b[0m\u001b[0;34m,\u001b[0m\u001b[0;34m\u001b[0m\u001b[0;34m\u001b[0m\u001b[0m\n\u001b[0;32m-> 1418\u001b[0;31m             initial_epoch=initial_epoch)\n\u001b[0m\u001b[1;32m   1419\u001b[0m \u001b[0;34m\u001b[0m\u001b[0m\n\u001b[1;32m   1420\u001b[0m     \u001b[0;34m@\u001b[0m\u001b[0minterfaces\u001b[0m\u001b[0;34m.\u001b[0m\u001b[0mlegacy_generator_methods_support\u001b[0m\u001b[0;34m\u001b[0m\u001b[0;34m\u001b[0m\u001b[0m\n",
            "\u001b[0;32m/usr/local/lib/python3.6/dist-packages/keras/engine/training_generator.py\u001b[0m in \u001b[0;36mfit_generator\u001b[0;34m(model, generator, steps_per_epoch, epochs, verbose, callbacks, validation_data, validation_steps, class_weight, max_queue_size, workers, use_multiprocessing, shuffle, initial_epoch)\u001b[0m\n\u001b[1;32m    215\u001b[0m                 outs = model.train_on_batch(x, y,\n\u001b[1;32m    216\u001b[0m                                             \u001b[0msample_weight\u001b[0m\u001b[0;34m=\u001b[0m\u001b[0msample_weight\u001b[0m\u001b[0;34m,\u001b[0m\u001b[0;34m\u001b[0m\u001b[0;34m\u001b[0m\u001b[0m\n\u001b[0;32m--> 217\u001b[0;31m                                             class_weight=class_weight)\n\u001b[0m\u001b[1;32m    218\u001b[0m \u001b[0;34m\u001b[0m\u001b[0m\n\u001b[1;32m    219\u001b[0m                 \u001b[0mouts\u001b[0m \u001b[0;34m=\u001b[0m \u001b[0mto_list\u001b[0m\u001b[0;34m(\u001b[0m\u001b[0mouts\u001b[0m\u001b[0;34m)\u001b[0m\u001b[0;34m\u001b[0m\u001b[0;34m\u001b[0m\u001b[0m\n",
            "\u001b[0;32m/usr/local/lib/python3.6/dist-packages/keras/engine/training.py\u001b[0m in \u001b[0;36mtrain_on_batch\u001b[0;34m(self, x, y, sample_weight, class_weight)\u001b[0m\n\u001b[1;32m   1215\u001b[0m             \u001b[0mins\u001b[0m \u001b[0;34m=\u001b[0m \u001b[0mx\u001b[0m \u001b[0;34m+\u001b[0m \u001b[0my\u001b[0m \u001b[0;34m+\u001b[0m \u001b[0msample_weights\u001b[0m\u001b[0;34m\u001b[0m\u001b[0;34m\u001b[0m\u001b[0m\n\u001b[1;32m   1216\u001b[0m         \u001b[0mself\u001b[0m\u001b[0;34m.\u001b[0m\u001b[0m_make_train_function\u001b[0m\u001b[0;34m(\u001b[0m\u001b[0;34m)\u001b[0m\u001b[0;34m\u001b[0m\u001b[0;34m\u001b[0m\u001b[0m\n\u001b[0;32m-> 1217\u001b[0;31m         \u001b[0moutputs\u001b[0m \u001b[0;34m=\u001b[0m \u001b[0mself\u001b[0m\u001b[0;34m.\u001b[0m\u001b[0mtrain_function\u001b[0m\u001b[0;34m(\u001b[0m\u001b[0mins\u001b[0m\u001b[0;34m)\u001b[0m\u001b[0;34m\u001b[0m\u001b[0;34m\u001b[0m\u001b[0m\n\u001b[0m\u001b[1;32m   1218\u001b[0m         \u001b[0;32mreturn\u001b[0m \u001b[0munpack_singleton\u001b[0m\u001b[0;34m(\u001b[0m\u001b[0moutputs\u001b[0m\u001b[0;34m)\u001b[0m\u001b[0;34m\u001b[0m\u001b[0;34m\u001b[0m\u001b[0m\n\u001b[1;32m   1219\u001b[0m \u001b[0;34m\u001b[0m\u001b[0m\n",
            "\u001b[0;32m/usr/local/lib/python3.6/dist-packages/keras/backend/tensorflow_backend.py\u001b[0m in \u001b[0;36m__call__\u001b[0;34m(self, inputs)\u001b[0m\n\u001b[1;32m   2713\u001b[0m                 \u001b[0;32mreturn\u001b[0m \u001b[0mself\u001b[0m\u001b[0;34m.\u001b[0m\u001b[0m_legacy_call\u001b[0m\u001b[0;34m(\u001b[0m\u001b[0minputs\u001b[0m\u001b[0;34m)\u001b[0m\u001b[0;34m\u001b[0m\u001b[0;34m\u001b[0m\u001b[0m\n\u001b[1;32m   2714\u001b[0m \u001b[0;34m\u001b[0m\u001b[0m\n\u001b[0;32m-> 2715\u001b[0;31m             \u001b[0;32mreturn\u001b[0m \u001b[0mself\u001b[0m\u001b[0;34m.\u001b[0m\u001b[0m_call\u001b[0m\u001b[0;34m(\u001b[0m\u001b[0minputs\u001b[0m\u001b[0;34m)\u001b[0m\u001b[0;34m\u001b[0m\u001b[0;34m\u001b[0m\u001b[0m\n\u001b[0m\u001b[1;32m   2716\u001b[0m         \u001b[0;32melse\u001b[0m\u001b[0;34m:\u001b[0m\u001b[0;34m\u001b[0m\u001b[0;34m\u001b[0m\u001b[0m\n\u001b[1;32m   2717\u001b[0m             \u001b[0;32mif\u001b[0m \u001b[0mpy_any\u001b[0m\u001b[0;34m(\u001b[0m\u001b[0mis_tensor\u001b[0m\u001b[0;34m(\u001b[0m\u001b[0mx\u001b[0m\u001b[0;34m)\u001b[0m \u001b[0;32mfor\u001b[0m \u001b[0mx\u001b[0m \u001b[0;32min\u001b[0m \u001b[0minputs\u001b[0m\u001b[0;34m)\u001b[0m\u001b[0;34m:\u001b[0m\u001b[0;34m\u001b[0m\u001b[0;34m\u001b[0m\u001b[0m\n",
            "\u001b[0;32m/usr/local/lib/python3.6/dist-packages/keras/backend/tensorflow_backend.py\u001b[0m in \u001b[0;36m_call\u001b[0;34m(self, inputs)\u001b[0m\n\u001b[1;32m   2673\u001b[0m             \u001b[0mfetched\u001b[0m \u001b[0;34m=\u001b[0m \u001b[0mself\u001b[0m\u001b[0;34m.\u001b[0m\u001b[0m_callable_fn\u001b[0m\u001b[0;34m(\u001b[0m\u001b[0;34m*\u001b[0m\u001b[0marray_vals\u001b[0m\u001b[0;34m,\u001b[0m \u001b[0mrun_metadata\u001b[0m\u001b[0;34m=\u001b[0m\u001b[0mself\u001b[0m\u001b[0;34m.\u001b[0m\u001b[0mrun_metadata\u001b[0m\u001b[0;34m)\u001b[0m\u001b[0;34m\u001b[0m\u001b[0;34m\u001b[0m\u001b[0m\n\u001b[1;32m   2674\u001b[0m         \u001b[0;32melse\u001b[0m\u001b[0;34m:\u001b[0m\u001b[0;34m\u001b[0m\u001b[0;34m\u001b[0m\u001b[0m\n\u001b[0;32m-> 2675\u001b[0;31m             \u001b[0mfetched\u001b[0m \u001b[0;34m=\u001b[0m \u001b[0mself\u001b[0m\u001b[0;34m.\u001b[0m\u001b[0m_callable_fn\u001b[0m\u001b[0;34m(\u001b[0m\u001b[0;34m*\u001b[0m\u001b[0marray_vals\u001b[0m\u001b[0;34m)\u001b[0m\u001b[0;34m\u001b[0m\u001b[0;34m\u001b[0m\u001b[0m\n\u001b[0m\u001b[1;32m   2676\u001b[0m         \u001b[0;32mreturn\u001b[0m \u001b[0mfetched\u001b[0m\u001b[0;34m[\u001b[0m\u001b[0;34m:\u001b[0m\u001b[0mlen\u001b[0m\u001b[0;34m(\u001b[0m\u001b[0mself\u001b[0m\u001b[0;34m.\u001b[0m\u001b[0moutputs\u001b[0m\u001b[0;34m)\u001b[0m\u001b[0;34m]\u001b[0m\u001b[0;34m\u001b[0m\u001b[0;34m\u001b[0m\u001b[0m\n\u001b[1;32m   2677\u001b[0m \u001b[0;34m\u001b[0m\u001b[0m\n",
            "\u001b[0;32m/usr/local/lib/python3.6/dist-packages/tensorflow/python/client/session.py\u001b[0m in \u001b[0;36m__call__\u001b[0;34m(self, *args, **kwargs)\u001b[0m\n\u001b[1;32m   1437\u001b[0m           ret = tf_session.TF_SessionRunCallable(\n\u001b[1;32m   1438\u001b[0m               \u001b[0mself\u001b[0m\u001b[0;34m.\u001b[0m\u001b[0m_session\u001b[0m\u001b[0;34m.\u001b[0m\u001b[0m_session\u001b[0m\u001b[0;34m,\u001b[0m \u001b[0mself\u001b[0m\u001b[0;34m.\u001b[0m\u001b[0m_handle\u001b[0m\u001b[0;34m,\u001b[0m \u001b[0margs\u001b[0m\u001b[0;34m,\u001b[0m \u001b[0mstatus\u001b[0m\u001b[0;34m,\u001b[0m\u001b[0;34m\u001b[0m\u001b[0;34m\u001b[0m\u001b[0m\n\u001b[0;32m-> 1439\u001b[0;31m               run_metadata_ptr)\n\u001b[0m\u001b[1;32m   1440\u001b[0m         \u001b[0;32mif\u001b[0m \u001b[0mrun_metadata\u001b[0m\u001b[0;34m:\u001b[0m\u001b[0;34m\u001b[0m\u001b[0;34m\u001b[0m\u001b[0m\n\u001b[1;32m   1441\u001b[0m           \u001b[0mproto_data\u001b[0m \u001b[0;34m=\u001b[0m \u001b[0mtf_session\u001b[0m\u001b[0;34m.\u001b[0m\u001b[0mTF_GetBuffer\u001b[0m\u001b[0;34m(\u001b[0m\u001b[0mrun_metadata_ptr\u001b[0m\u001b[0;34m)\u001b[0m\u001b[0;34m\u001b[0m\u001b[0;34m\u001b[0m\u001b[0m\n",
            "\u001b[0;31mKeyboardInterrupt\u001b[0m: "
          ]
        }
      ]
    }
  ]
}