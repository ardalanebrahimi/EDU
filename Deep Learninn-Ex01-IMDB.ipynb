{
  "nbformat": 4,
  "nbformat_minor": 0,
  "metadata": {
    "colab": {
      "name": "Hello, Colaboratory",
      "version": "0.3.2",
      "provenance": [],
      "collapsed_sections": [],
      "toc_visible": true,
      "include_colab_link": true
    },
    "kernelspec": {
      "display_name": "Python 3",
      "name": "python3"
    }
  },
  "cells": [
    {
      "cell_type": "markdown",
      "metadata": {
        "id": "view-in-github",
        "colab_type": "text"
      },
      "source": [
        "<a href=\"https://colab.research.google.com/github/ardalanebrahimi/EDU/blob/master/Deep%20Learninn-Ex01-IMDB.ipynb\" target=\"_parent\"><img src=\"https://colab.research.google.com/assets/colab-badge.svg\" alt=\"Open In Colab\"/></a>"
      ]
    },
    {
      "metadata": {
        "id": "FyDv4KfEhwsU",
        "colab_type": "code",
        "colab": {}
      },
      "cell_type": "code",
      "source": [
        "from keras.datasets import imdb\n",
        "\n",
        "(train_data,train_labels),(test_data, test_labels) = imdb.load_data(num_words=10000)\n",
        "train_labels[0]\n",
        "\n",
        "word_index = imdb.get_word_index()\n",
        "reverse_word_index = dict([(value,key) for (key,value) in word_index.items()])\n",
        "decode_review  = ' '.join([reverse_word_index.get(i-3,'?') for i in train_data[0]])\n",
        "\n",
        "import numpy as np\n",
        "def vectorize_sequences(sequences, dimension=10000):\n",
        "  results = np.zeros((len(sequences),dimension))\n",
        "  for i, sequence in enumerate(sequences):\n",
        "    results[i, sequence] = 1.\n",
        "  return results\n",
        "\n",
        "x_train = vectorize_sequences(train_data)\n",
        "x_test = vectorize_sequences(test_data)\n",
        "y_train = np.asarray(train_labels).astype('float32')\n",
        "y_test = np.asarray(test_labels).astype('float32')"
      ],
      "execution_count": 0,
      "outputs": []
    },
    {
      "metadata": {
        "id": "SHioyZAK5fGC",
        "colab_type": "code",
        "colab": {}
      },
      "cell_type": "code",
      "source": [
        "from keras import models\n",
        "from keras import layers\n",
        "model = models.Sequential()\n",
        "\n",
        "model.add(layers.Dense(16, activation='relu', input_shape=(10000,)))\n",
        "model.add(layers.Dense(16, activation='relu'))\n",
        "model.add(layers.Dense(1, activation='sigmoid'))\n",
        "\n",
        "#output = relu(dot(input, W) + b)\n",
        "#model.compile(optimizer='rmsprop'\n",
        "#              ,loss='binary_crossentropy',\n",
        "#              metrics=['accuracy'])    \n",
        "\n",
        "from keras import optimizers\n",
        "from keras import losses\n",
        "from keras import metrics\n",
        "\n",
        "model.compile(optimizer=optimizers.RMSprop(lr=0.001)\n",
        "              ,loss=losses.binary_crossentropy,\n",
        "              metrics=[metrics.binary_accuracy])    \n",
        "\n",
        "x_val = x_train[:10000]\n",
        "partial_x_train = x_train[10000:]\n",
        "y_val = y_train[:10000]\n",
        "partial_y_train = y_train[10000:]"
      ],
      "execution_count": 0,
      "outputs": []
    },
    {
      "metadata": {
        "id": "KLNUILWlvtK2",
        "colab_type": "code",
        "colab": {
          "base_uri": "https://localhost:8080/",
          "height": 734
        },
        "outputId": "dffbe110-cedb-43d9-850a-9263fe2d8938"
      },
      "cell_type": "code",
      "source": [
        "history = model.fit(partial_x_train,\n",
        "                   partial_y_train,\n",
        "                   epochs=20,\n",
        "                   batch_size = 512,\n",
        "                   validation_data = (x_val,y_val))"
      ],
      "execution_count": 77,
      "outputs": [
        {
          "output_type": "stream",
          "text": [
            "Train on 15000 samples, validate on 10000 samples\n",
            "Epoch 1/20\n",
            "15000/15000 [==============================] - 3s 171us/step - loss: 0.5048 - binary_accuracy: 0.7871 - val_loss: 0.3775 - val_binary_accuracy: 0.8705\n",
            "Epoch 2/20\n",
            "15000/15000 [==============================] - 2s 156us/step - loss: 0.2991 - binary_accuracy: 0.9046 - val_loss: 0.3001 - val_binary_accuracy: 0.8899\n",
            "Epoch 3/20\n",
            "15000/15000 [==============================] - 2s 153us/step - loss: 0.2173 - binary_accuracy: 0.9285 - val_loss: 0.3081 - val_binary_accuracy: 0.8716\n",
            "Epoch 4/20\n",
            "15000/15000 [==============================] - 2s 154us/step - loss: 0.1747 - binary_accuracy: 0.9437 - val_loss: 0.2825 - val_binary_accuracy: 0.8846\n",
            "Epoch 5/20\n",
            "15000/15000 [==============================] - 2s 153us/step - loss: 0.1422 - binary_accuracy: 0.9540 - val_loss: 0.2856 - val_binary_accuracy: 0.8855\n",
            "Epoch 6/20\n",
            "15000/15000 [==============================] - 3s 189us/step - loss: 0.1148 - binary_accuracy: 0.9652 - val_loss: 0.3152 - val_binary_accuracy: 0.8775\n",
            "Epoch 7/20\n",
            "15000/15000 [==============================] - 2s 160us/step - loss: 0.0978 - binary_accuracy: 0.9706 - val_loss: 0.3130 - val_binary_accuracy: 0.8843\n",
            "Epoch 8/20\n",
            "15000/15000 [==============================] - 2s 152us/step - loss: 0.0806 - binary_accuracy: 0.9763 - val_loss: 0.3864 - val_binary_accuracy: 0.8653\n",
            "Epoch 9/20\n",
            "15000/15000 [==============================] - 2s 154us/step - loss: 0.0660 - binary_accuracy: 0.9819 - val_loss: 0.3640 - val_binary_accuracy: 0.8777\n",
            "Epoch 10/20\n",
            "15000/15000 [==============================] - 2s 152us/step - loss: 0.0559 - binary_accuracy: 0.9845 - val_loss: 0.3862 - val_binary_accuracy: 0.8779\n",
            "Epoch 11/20\n",
            "15000/15000 [==============================] - 2s 153us/step - loss: 0.0435 - binary_accuracy: 0.9899 - val_loss: 0.4181 - val_binary_accuracy: 0.8768\n",
            "Epoch 12/20\n",
            "15000/15000 [==============================] - 2s 153us/step - loss: 0.0382 - binary_accuracy: 0.9914 - val_loss: 0.4546 - val_binary_accuracy: 0.8699\n",
            "Epoch 13/20\n",
            "15000/15000 [==============================] - 2s 152us/step - loss: 0.0291 - binary_accuracy: 0.9939 - val_loss: 0.4715 - val_binary_accuracy: 0.8736\n",
            "Epoch 14/20\n",
            "15000/15000 [==============================] - 2s 154us/step - loss: 0.0259 - binary_accuracy: 0.9941 - val_loss: 0.5058 - val_binary_accuracy: 0.8713\n",
            "Epoch 15/20\n",
            "15000/15000 [==============================] - 2s 154us/step - loss: 0.0179 - binary_accuracy: 0.9975 - val_loss: 0.5344 - val_binary_accuracy: 0.8708\n",
            "Epoch 16/20\n",
            "15000/15000 [==============================] - 2s 154us/step - loss: 0.0180 - binary_accuracy: 0.9964 - val_loss: 0.5668 - val_binary_accuracy: 0.8691\n",
            "Epoch 17/20\n",
            "15000/15000 [==============================] - 2s 154us/step - loss: 0.0106 - binary_accuracy: 0.9993 - val_loss: 0.6175 - val_binary_accuracy: 0.8650\n",
            "Epoch 18/20\n",
            "15000/15000 [==============================] - 2s 154us/step - loss: 0.0134 - binary_accuracy: 0.9971 - val_loss: 0.6349 - val_binary_accuracy: 0.8666\n",
            "Epoch 19/20\n",
            "15000/15000 [==============================] - 2s 154us/step - loss: 0.0056 - binary_accuracy: 0.9997 - val_loss: 0.7173 - val_binary_accuracy: 0.8584\n",
            "Epoch 20/20\n",
            "15000/15000 [==============================] - 2s 154us/step - loss: 0.0090 - binary_accuracy: 0.9983 - val_loss: 0.6905 - val_binary_accuracy: 0.8662\n"
          ],
          "name": "stdout"
        }
      ]
    },
    {
      "metadata": {
        "id": "yHFl7PZ2wiSJ",
        "colab_type": "code",
        "colab": {
          "base_uri": "https://localhost:8080/",
          "height": 376
        },
        "outputId": "70a1fa76-78f9-4cf9-d30d-64222b4517a6"
      },
      "cell_type": "code",
      "source": [
        "import matplotlib.pyplot as plt\n",
        "history_dict = history.history\n",
        "#history_dict.keys()\n",
        "loss_values = history_dict['loss']\n",
        "val_loss_values = history_dict['val_loss']\n",
        "\n",
        "epochs = range(1, len(loss_values) + 1)\n",
        "\n",
        "plt.plot(epochs, loss_values, 'bo', label= 'Training loss')\n",
        "plt.plot(epochs, val_loss_values, 'b', label= 'Validation loss')\n",
        "plt.title('Training and validation loss')\n",
        "plt.xlabel('Epochs')\n",
        "plt.ylabel('Loss')\n",
        "plt.legend()\n",
        "\n",
        "plt.show()"
      ],
      "execution_count": 78,
      "outputs": [
        {
          "output_type": "display_data",
          "data": {
            "image/png": "[encoded data removed]",
            "text/plain": [
              "<matplotlib.figure.Figure at 0x7f3bb7d630f0>"
            ]
          },
          "metadata": {
            "tags": []
          }
        }
      ]
    },
    {
      "metadata": {
        "id": "_MDdbnWRxxns",
        "colab_type": "code",
        "colab": {
          "base_uri": "https://localhost:8080/",
          "height": 376
        },
        "outputId": "f860aca4-b2ae-4b0e-aaa8-6f1db137a34a"
      },
      "cell_type": "code",
      "source": [
        "history_dict.keys()\n",
        "plt.clf()\n",
        "acc_values = history_dict['binary_accuracy']\n",
        "val_acc_values = history_dict['val_binary_accuracy']\n",
        "\n",
        "plt.plot(epochs, acc_values, 'bo', label='Training acc')\n",
        "plt.plot(epochs, val_acc_values, 'b', label='Validation acc')\n",
        "plt.title('Training and validation accuracy')\n",
        "plt.xlabel('Epochs')\n",
        "plt.ylabel('Accuracy')\n",
        "plt.legend()\n",
        "\n",
        "plt.show()\n"
      ],
      "execution_count": 79,
      "outputs": [
        {
          "output_type": "display_data",
          "data": {
            "image/png": "[encoded data removed]",
            "text/plain": [
              "<matplotlib.figure.Figure at 0x7f3bb7d63748>"
            ]
          },
          "metadata": {
            "tags": []
          }
        }
      ]
    },
    {
      "metadata": {
        "id": "Afy-yOkP315w",
        "colab_type": "code",
        "colab": {
          "base_uri": "https://localhost:8080/",
          "height": 170
        },
        "outputId": "5d7fd57a-0efb-44ac-d340-b598aff6c045"
      },
      "cell_type": "code",
      "source": [
        "\n",
        "model = models.Sequential()\n",
        "\n",
        "model.add(layers.Dense(16, activation='relu', input_shape=(10000,)))\n",
        "model.add(layers.Dense(16, activation='relu'))\n",
        "model.add(layers.Dense(1, activation='sigmoid'))\n",
        "\n",
        "model.compile(optimizer='rmsprop'\n",
        "              ,loss='binary_crossentropy',\n",
        "              metrics=['accuracy'])    \n",
        "\n",
        "model.fit(x_train,y_train,epochs=4,batch_size = 512)\n",
        "results = model.evaluate(x_test, y_test)"
      ],
      "execution_count": 80,
      "outputs": [
        {
          "output_type": "stream",
          "text": [
            "Epoch 1/4\n",
            "25000/25000 [==============================] - 3s 122us/step - loss: 0.4739 - acc: 0.8216\n",
            "Epoch 2/4\n",
            "25000/25000 [==============================] - 3s 110us/step - loss: 0.2634 - acc: 0.9106\n",
            "Epoch 3/4\n",
            "25000/25000 [==============================] - 3s 108us/step - loss: 0.1985 - acc: 0.9306\n",
            "Epoch 4/4\n",
            "25000/25000 [==============================] - 3s 107us/step - loss: 0.1676 - acc: 0.9403\n",
            "25000/25000 [==============================] - 2s 76us/step\n"
          ],
          "name": "stdout"
        }
      ]
    },
    {
      "metadata": {
        "id": "Cux6kmU87QbU",
        "colab_type": "code",
        "colab": {
          "base_uri": "https://localhost:8080/",
          "height": 34
        },
        "outputId": "264ccb6e-94a8-4b29-bf53-33bbff68ad28"
      },
      "cell_type": "code",
      "source": [
        "results"
      ],
      "execution_count": 85,
      "outputs": [
        {
          "output_type": "execute_result",
          "data": {
            "text/plain": [
              "[0.3225671417427063, 0.87304]"
            ]
          },
          "metadata": {
            "tags": []
          },
          "execution_count": 85
        }
      ]
    },
    {
      "metadata": {
        "id": "Bn6bxGjR8Y3E",
        "colab_type": "code",
        "colab": {
          "base_uri": "https://localhost:8080/",
          "height": 136
        },
        "outputId": "d3902eda-d2b2-4ee5-8e1b-54aa03f55913"
      },
      "cell_type": "code",
      "source": [
        "model.predict(x_test)"
      ],
      "execution_count": 87,
      "outputs": [
        {
          "output_type": "execute_result",
          "data": {
            "text/plain": [
              "array([[0.13631363],\n",
              "       [0.9997111 ],\n",
              "       [0.28520334],\n",
              "       ...,\n",
              "       [0.07501093],\n",
              "       [0.04523316],\n",
              "       [0.4920561 ]], dtype=float32)"
            ]
          },
          "metadata": {
            "tags": []
          },
          "execution_count": 87
        }
      ]
    }
  ]
}