{
  "nbformat": 4,
  "nbformat_minor": 0,
  "metadata": {
    "colab": {
      "name": "Hello, Colaboratory",
      "version": "0.3.2",
      "provenance": [],
      "collapsed_sections": [],
      "toc_visible": true,
      "include_colab_link": true
    },
    "kernelspec": {
      "display_name": "Python 3",
      "name": "python3"
    }
  },
  "cells": [
    {
      "cell_type": "markdown",
      "metadata": {
        "id": "view-in-github",
        "colab_type": "text"
      },
      "source": [
        "<a href=\"https://colab.research.google.com/github/ardalanebrahimi/EDU/blob/master/Deep%20Learninn-Ex01-IMDB.ipynb\" target=\"_parent\"><img src=\"https://colab.research.google.com/assets/colab-badge.svg\" alt=\"Open In Colab\"/></a>"
      ]
    },
    {
      "metadata": {
        "id": "FyDv4KfEhwsU",
        "colab_type": "code",
        "colab": {}
      },
      "cell_type": "code",
      "source": [
        "from keras.datasets import imdb\n",
        "\n",
        "(train_data,train_labels),(test_data, test_labels) = imdb.load_data(num_words=10000)\n",
        "train_labels[0]\n",
        "\n",
        "word_index = imdb.get_word_index()"
      ],
      "execution_count": 0,
      "outputs": []
    },
    {
      "metadata": {
        "id": "WTptLxr8Y09a",
        "colab_type": "code",
        "colab": {}
      },
      "cell_type": "code",
      "source": [
        "reverse_word_index = dict([(value,key) for (key,value) in word_index.items()])\n",
        "decode_review  = ' '.join([reverse_word_index.get(i-3,'?') for i in train_data[0]])\n",
        "\n",
        "import numpy as np\n",
        "def vectorize_sequences(sequences, dimension=10000):\n",
        "  results = np.zeros((len(sequences),dimension))\n",
        "  for i, sequence in enumerate(sequences):\n",
        "    results[i, sequence] = 1.\n",
        "  return results\n",
        "\n",
        "x_train = vectorize_sequences(train_data)\n",
        "x_test = vectorize_sequences(test_data)\n",
        "y_train = np.asarray(train_labels).astype('float32')\n",
        "y_test = np.asarray(test_labels).astype('float32')"
      ],
      "execution_count": 0,
      "outputs": []
    },
    {
      "metadata": {
        "id": "SHioyZAK5fGC",
        "colab_type": "code",
        "colab": {}
      },
      "cell_type": "code",
      "source": [
        "from keras import models\n",
        "from keras import layers\n",
        "model = models.Sequential()\n",
        "\n",
        "model.add(layers.Dense(16, activation='tanh', input_shape=(10000,)))\n",
        "model.add(layers.Dense(16, activation='tanh'))\n",
        "model.add(layers.Dense(1, activation='sigmoid'))\n",
        "\n",
        "#output = relu(dot(input, W) + b)\n",
        "#model.compile(optimizer='rmsprop'\n",
        "#              ,loss='binary_crossentropy',\n",
        "#              metrics=['accuracy'])    \n",
        "\n",
        "from keras import optimizers\n",
        "from keras import losses\n",
        "from keras import metrics\n",
        "\n",
        "model.compile(optimizer=optimizers.RMSprop(lr=0.001)\n",
        "              ,loss=losses.binary_crossentropy,\n",
        "              metrics=[metrics.binary_accuracy])    \n",
        "\n",
        "x_val = x_train[:10000]\n",
        "partial_x_train = x_train[10000:]\n",
        "y_val = y_train[:10000]\n",
        "partial_y_train = y_train[10000:]"
      ],
      "execution_count": 0,
      "outputs": []
    },
    {
      "metadata": {
        "id": "KLNUILWlvtK2",
        "colab_type": "code",
        "outputId": "4da6637a-18a2-41aa-ab47-d79bf9c2e1d3",
        "colab": {
          "base_uri": "https://localhost:8080/",
          "height": 734
        }
      },
      "cell_type": "code",
      "source": [
        "history = model.fit(partial_x_train,\n",
        "                   partial_y_train,\n",
        "                   epochs=20,\n",
        "                   batch_size = 512,\n",
        "                   validation_data = (x_val,y_val))"
      ],
      "execution_count": 59,
      "outputs": [
        {
          "output_type": "stream",
          "text": [
            "Train on 15000 samples, validate on 10000 samples\n",
            "Epoch 1/20\n",
            "15000/15000 [==============================] - 3s 175us/step - loss: 0.5113 - binary_accuracy: 0.8046 - val_loss: 0.3889 - val_binary_accuracy: 0.8709\n",
            "Epoch 2/20\n",
            "15000/15000 [==============================] - 2s 146us/step - loss: 0.3063 - binary_accuracy: 0.9035 - val_loss: 0.3114 - val_binary_accuracy: 0.8785\n",
            "Epoch 3/20\n",
            "15000/15000 [==============================] - 2s 146us/step - loss: 0.2136 - binary_accuracy: 0.9317 - val_loss: 0.2703 - val_binary_accuracy: 0.8916\n",
            "Epoch 4/20\n",
            "15000/15000 [==============================] - 2s 146us/step - loss: 0.1624 - binary_accuracy: 0.9483 - val_loss: 0.2727 - val_binary_accuracy: 0.8885\n",
            "Epoch 5/20\n",
            "15000/15000 [==============================] - 2s 146us/step - loss: 0.1243 - binary_accuracy: 0.9601 - val_loss: 0.3321 - val_binary_accuracy: 0.8753\n",
            "Epoch 6/20\n",
            "15000/15000 [==============================] - 2s 142us/step - loss: 0.0986 - binary_accuracy: 0.9693 - val_loss: 0.3310 - val_binary_accuracy: 0.8814\n",
            "Epoch 7/20\n",
            "15000/15000 [==============================] - 2s 145us/step - loss: 0.0771 - binary_accuracy: 0.9772 - val_loss: 0.3484 - val_binary_accuracy: 0.8790\n",
            "Epoch 8/20\n",
            "15000/15000 [==============================] - 2s 146us/step - loss: 0.0571 - binary_accuracy: 0.9844 - val_loss: 0.3880 - val_binary_accuracy: 0.8773\n",
            "Epoch 9/20\n",
            "15000/15000 [==============================] - 2s 145us/step - loss: 0.0479 - binary_accuracy: 0.9871 - val_loss: 0.4299 - val_binary_accuracy: 0.8748\n",
            "Epoch 10/20\n",
            "15000/15000 [==============================] - 2s 144us/step - loss: 0.0358 - binary_accuracy: 0.9897 - val_loss: 0.4697 - val_binary_accuracy: 0.8714\n",
            "Epoch 11/20\n",
            "15000/15000 [==============================] - 2s 148us/step - loss: 0.0306 - binary_accuracy: 0.9907 - val_loss: 0.5053 - val_binary_accuracy: 0.8713\n",
            "Epoch 12/20\n",
            "15000/15000 [==============================] - 2s 148us/step - loss: 0.0171 - binary_accuracy: 0.9964 - val_loss: 0.6307 - val_binary_accuracy: 0.8511\n",
            "Epoch 13/20\n",
            "15000/15000 [==============================] - 2s 150us/step - loss: 0.0137 - binary_accuracy: 0.9979 - val_loss: 0.7105 - val_binary_accuracy: 0.8463\n",
            "Epoch 14/20\n",
            "15000/15000 [==============================] - 2s 147us/step - loss: 0.0087 - binary_accuracy: 0.9987 - val_loss: 0.6538 - val_binary_accuracy: 0.8665\n",
            "Epoch 15/20\n",
            "15000/15000 [==============================] - 2s 149us/step - loss: 0.0211 - binary_accuracy: 0.9939 - val_loss: 0.6678 - val_binary_accuracy: 0.8646\n",
            "Epoch 16/20\n",
            "15000/15000 [==============================] - 2s 148us/step - loss: 0.0043 - binary_accuracy: 0.9996 - val_loss: 0.6911 - val_binary_accuracy: 0.8648\n",
            "Epoch 17/20\n",
            "15000/15000 [==============================] - 2s 147us/step - loss: 0.0034 - binary_accuracy: 0.9997 - val_loss: 0.7427 - val_binary_accuracy: 0.8661\n",
            "Epoch 18/20\n",
            "15000/15000 [==============================] - 2s 147us/step - loss: 0.0153 - binary_accuracy: 0.9958 - val_loss: 0.7445 - val_binary_accuracy: 0.8647\n",
            "Epoch 19/20\n",
            "15000/15000 [==============================] - 2s 147us/step - loss: 0.0024 - binary_accuracy: 0.9998 - val_loss: 0.7713 - val_binary_accuracy: 0.8642\n",
            "Epoch 20/20\n",
            "15000/15000 [==============================] - 2s 148us/step - loss: 0.0168 - binary_accuracy: 0.9951 - val_loss: 0.7854 - val_binary_accuracy: 0.8626\n"
          ],
          "name": "stdout"
        }
      ]
    },
    {
      "metadata": {
        "id": "yHFl7PZ2wiSJ",
        "colab_type": "code",
        "outputId": "808aed03-88ac-45d4-9fc0-c7bebe48a396",
        "colab": {
          "base_uri": "https://localhost:8080/",
          "height": 376
        }
      },
      "cell_type": "code",
      "source": [
        "import matplotlib.pyplot as plt\n",
        "history_dict = history.history\n",
        "#history_dict.keys()\n",
        "loss_values = history_dict['loss']\n",
        "val_loss_values = history_dict['val_loss']\n",
        "\n",
        "epochs = range(1, len(loss_values) + 1)\n",
        "\n",
        "plt.plot(epochs, loss_values, 'bo', label= 'Training loss')\n",
        "plt.plot(epochs, val_loss_values, 'b', label= 'Validation loss')\n",
        "plt.title('Training and validation loss')\n",
        "plt.xlabel('Epochs')\n",
        "plt.ylabel('Loss')\n",
        "plt.legend()\n",
        "\n",
        "plt.show()"
      ],
      "execution_count": 60,
      "outputs": [
        {
          "output_type": "display_data",
          "data": {
            "image/png": "[encoded data removed]",
            "text/plain": [
              "<matplotlib.figure.Figure at 0x7fdb8b5520b8>"
            ]
          },
          "metadata": {
            "tags": []
          }
        }
      ]
    },
    {
      "metadata": {
        "id": "_MDdbnWRxxns",
        "colab_type": "code",
        "outputId": "7ddd51e7-74b4-4375-c552-d7afc4fa1cc4",
        "colab": {
          "base_uri": "https://localhost:8080/",
          "height": 376
        }
      },
      "cell_type": "code",
      "source": [
        "history_dict.keys()\n",
        "plt.clf()\n",
        "acc_values = history_dict['binary_accuracy']\n",
        "val_acc_values = history_dict['val_binary_accuracy']\n",
        "\n",
        "plt.plot(epochs, acc_values, 'bo', label='Training acc')\n",
        "plt.plot(epochs, val_acc_values, 'b', label='Validation acc')\n",
        "plt.title('Training and validation accuracy')\n",
        "plt.xlabel('Epochs')\n",
        "plt.ylabel('Accuracy')\n",
        "plt.legend()\n",
        "\n",
        "plt.show()\n"
      ],
      "execution_count": 61,
      "outputs": [
        {
          "output_type": "display_data",
          "data": {
            "image/png": "[encoded data removed]",
            "text/plain": [
              "<matplotlib.figure.Figure at 0x7fdb8b54cf28>"
            ]
          },
          "metadata": {
            "tags": []
          }
        }
      ]
    },
    {
      "metadata": {
        "id": "Afy-yOkP315w",
        "colab_type": "code",
        "outputId": "031693f2-96ff-4a96-f40f-2405de42f0fa",
        "colab": {
          "base_uri": "https://localhost:8080/",
          "height": 170
        }
      },
      "cell_type": "code",
      "source": [
        "\n",
        "model = models.Sequential()\n",
        "\n",
        "model.add(layers.Dense(16, activation='relu', input_shape=(10000,)))\n",
        "model.add(layers.Dense(16, activation='relu'))\n",
        "model.add(layers.Dense(1, activation='sigmoid'))\n",
        "\n",
        "model.compile(optimizer='rmsprop'\n",
        "              ,loss='binary_crossentropy',\n",
        "              metrics=['accuracy'])    \n",
        "\n",
        "model.fit(x_train,y_train,epochs=4,batch_size = 512)\n",
        "results = model.evaluate(x_test, y_test)"
      ],
      "execution_count": 62,
      "outputs": [
        {
          "output_type": "stream",
          "text": [
            "Epoch 1/4\n",
            "25000/25000 [==============================] - 3s 131us/step - loss: 0.4437 - acc: 0.8228\n",
            "Epoch 2/4\n",
            "25000/25000 [==============================] - 3s 107us/step - loss: 0.2579 - acc: 0.9070\n",
            "Epoch 3/4\n",
            "25000/25000 [==============================] - 3s 109us/step - loss: 0.1966 - acc: 0.9297\n",
            "Epoch 4/4\n",
            "25000/25000 [==============================] - 3s 109us/step - loss: 0.1669 - acc: 0.9416\n",
            "25000/25000 [==============================] - 3s 117us/step\n"
          ],
          "name": "stdout"
        }
      ]
    },
    {
      "metadata": {
        "id": "Cux6kmU87QbU",
        "colab_type": "code",
        "outputId": "149a414f-7719-4d42-9505-266798a99dd3",
        "colab": {
          "base_uri": "https://localhost:8080/",
          "height": 34
        }
      },
      "cell_type": "code",
      "source": [
        "results"
      ],
      "execution_count": 63,
      "outputs": [
        {
          "output_type": "execute_result",
          "data": {
            "text/plain": [
              "[0.30080598422050475, 0.88064]"
            ]
          },
          "metadata": {
            "tags": []
          },
          "execution_count": 63
        }
      ]
    },
    {
      "metadata": {
        "id": "PcSs78qPs34b",
        "colab_type": "code",
        "colab": {}
      },
      "cell_type": "code",
      "source": [
        ""
      ],
      "execution_count": 0,
      "outputs": []
    },
    {
      "metadata": {
        "id": "Bn6bxGjR8Y3E",
        "colab_type": "code",
        "outputId": "ac9880df-726d-42cb-a19f-6d3d1fff731a",
        "colab": {
          "base_uri": "https://localhost:8080/",
          "height": 136
        }
      },
      "cell_type": "code",
      "source": [
        "model.predict(x_test)"
      ],
      "execution_count": 0,
      "outputs": [
        {
          "output_type": "execute_result",
          "data": {
            "text/plain": [
              "array([[0.16032566],\n",
              "       [0.9998487 ],\n",
              "       [0.3835661 ],\n",
              "       ...,\n",
              "       [0.08045009],\n",
              "       [0.04845066],\n",
              "       [0.45574993]], dtype=float32)"
            ]
          },
          "metadata": {
            "tags": []
          },
          "execution_count": 9
        }
      ]
    }
  ]
}